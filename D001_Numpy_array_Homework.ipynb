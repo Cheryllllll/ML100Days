{
 "cells": [
  {
   "cell_type": "markdown",
   "metadata": {
    "id": "P6xk2_jLsvFF"
   },
   "source": [
    "# [作業目標]\n",
    "\n",
    "1. [簡答題] 請問下列兩種將 Array 轉換成 List 的方式有何不同？\n",
    "\n",
    "```\n",
    "print('list(a): ', list(a))\n",
    "print('tolist(): ', a.tolist())\n",
    "```\n",
    "\n",
    "2. 請試著在程式中印出以下三個 NdArray 的屬性？（屬性：ndim、shape、size、dtype、itemsize、length、type）\n",
    "\n",
    "```\n",
    "a = np.random.randint(10, size=6) \n",
    "b = np.random.randint(10, size=(3,4)) \n",
    "c = np.random.randint(10, size=(2,3,2)) \n",
    "```\n",
    "\n",
    "3. 如何利用 list(...) 實現 a.tolist() 的效果？試著用程式實作。\n"
   ]
  },
  {
   "cell_type": "markdown",
   "metadata": {
    "id": "uXGll28asvFS"
   },
   "source": [
    "# 作業 "
   ]
  },
  {
   "cell_type": "markdown",
   "metadata": {
    "id": "SYkvkp9YLwB7"
   },
   "source": [
    "### 1. [簡答題] 請問下列兩種將 Array 轉換成 List 的方式有何不同？\n",
    "\n",
    "```\n",
    "print('list(a): ', list(a))\n",
    "print('tolist(): ', a.tolist())\n",
    "```\n"
   ]
  },
  {
   "cell_type": "code",
   "execution_count": 55,
   "metadata": {
    "id": "5QrYoyNWsvFS",
    "outputId": "13f374d0-6f1b-47aa-bbac-c7d1a8c6995c"
   },
   "outputs": [
    {
     "name": "stdout",
     "output_type": "stream",
     "text": [
      " list() 只會把第一層的元素轉換成 List，多層的話只有第一層會轉；\n",
      " tolist() 才能達成多層的型態轉換。\n"
     ]
    }
   ],
   "source": [
    "print(\" list() 只會把第一層的元素轉換成 List，多層的話只有第一層會轉；\\n tolist() 才能達成多層的型態轉換。\") "
   ]
  },
  {
   "cell_type": "markdown",
   "metadata": {
    "id": "AC9wUCyALwB9"
   },
   "source": [
    "### 2. 請試著在程式中印出以下三個 NdArray 的屬性並且解釋結果？（屬性：ndim、shape、size、dtype、itemsize、length、type）\n",
    "\n",
    "```\n",
    "a = np.random.randint(10, size=6) \n",
    "b = np.random.randint(10, size=(3,4)) \n",
    "c = np.random.randint(10, size=(2,3,2)) \n",
    "```"
   ]
  },
  {
   "cell_type": "code",
   "execution_count": 35,
   "metadata": {
    "id": "4qARRsdtLwB-"
   },
   "outputs": [],
   "source": [
    "# 記得先 Import 正確的套件\n",
    "\n",
    "import numpy as np"
   ]
  },
  {
   "cell_type": "code",
   "execution_count": 36,
   "metadata": {
    "id": "e1gVI0tvsvFY",
    "outputId": "9be10770-9042-40c8-c4bc-217b84be9fc9"
   },
   "outputs": [
    {
     "name": "stdout",
     "output_type": "stream",
     "text": [
      "[6 9 6 0 5 5]\n",
      "維度: 1\n",
      "維度的大小: (6,)\n",
      "有幾個元素: 6\n",
      "資料型態: int32\n",
      "每個元素佔用的空間: 4\n",
      "長度: 6\n",
      "類型: <class 'numpy.ndarray'>\n"
     ]
    }
   ],
   "source": [
    "\n",
    "a = np.random.randint(10, size=6) \n",
    "\n",
    "print(a)    # 印出 NdArray 的內容值\n",
    "print(\"維度:\", a.ndim)   # 印出 NdArray 有多少維度\n",
    "print(\"維度的大小:\", a.shape)   # 印出 NdArray 每個維度的大小\n",
    "print(\"有幾個元素:\", a.size)   # 印出 NdArray 中有幾個元素\n",
    "print(\"資料型態:\", a.dtype)  # 印出 NdArray 的資料型態\n",
    "print(\"每個元素佔用的空間:\", a.itemsize)   # 印出 NdArray 每個元素佔用的空間\n",
    "print(\"長度:\", len(a))   # 印出 NdArray 的長度\n",
    "print(\"類型:\", type(a))  # 印出 NdArray 的類型"
   ]
  },
  {
   "cell_type": "code",
   "execution_count": 37,
   "metadata": {
    "id": "iIJrIr7kLwB_",
    "outputId": "083c5519-394c-404e-9764-100c4ed5118a"
   },
   "outputs": [
    {
     "name": "stdout",
     "output_type": "stream",
     "text": [
      "[[9 3 4 6]\n",
      " [3 6 5 5]\n",
      " [8 5 9 3]]\n",
      "維度: 2\n",
      "維度的大小: (3, 4)\n",
      "有幾個元素: 12\n",
      "資料型態: int32\n",
      "每個元素佔用的空間: 4\n",
      "長度: 3\n",
      "類型: <class 'numpy.ndarray'>\n"
     ]
    }
   ],
   "source": [
    "b = np.random.randint(10, size=(3,4)) \n",
    "\n",
    "print(b)    # 印出 NdArray 的內容值\n",
    "print(\"維度:\", b.ndim)   # 印出 NdArray 有多少維度\n",
    "print(\"維度的大小:\", b.shape)   # 印出 NdArray 每個維度的大小\n",
    "print(\"有幾個元素:\", b.size)   # 印出 NdArray 中有幾個元素\n",
    "print(\"資料型態:\", b.dtype)  # 印出 NdArray 的資料型態\n",
    "print(\"每個元素佔用的空間:\", b.itemsize)   # 印出 NdArray 每個元素佔用的空間\n",
    "print(\"長度:\", len(b))   # 印出 NdArray 的長度\n",
    "print(\"類型:\", type(b))  # 印出 NdArray 的類型"
   ]
  },
  {
   "cell_type": "code",
   "execution_count": 38,
   "metadata": {
    "id": "98SRFh_FLwCC",
    "outputId": "dc65dfac-9ae6-49d2-f854-88eccebc2aac"
   },
   "outputs": [
    {
     "name": "stdout",
     "output_type": "stream",
     "text": [
      "[[[0 3]\n",
      "  [5 0]\n",
      "  [0 4]]\n",
      "\n",
      " [[2 9]\n",
      "  [0 7]\n",
      "  [0 5]]]\n",
      "維度: 3\n",
      "維度的大小: (2, 3, 2)\n",
      "有幾個元素: 12\n",
      "資料型態: int32\n",
      "每個元素佔用的空間: 4\n",
      "長度: 2\n",
      "類型: <class 'numpy.ndarray'>\n"
     ]
    }
   ],
   "source": [
    "c = np.random.randint(10, size=(2,3,2)) \n",
    "\n",
    "print(c)    # 印出 NdArray 的內容值\n",
    "print(\"維度:\", c.ndim)   # 印出 NdArray 有多少維度\n",
    "print(\"維度的大小:\", c.shape)   # 印出 NdArray 每個維度的大小\n",
    "print(\"有幾個元素:\", c.size)   # 印出 NdArray 中有幾個元素\n",
    "print(\"資料型態:\", c.dtype)  # 印出 NdArray 的資料型態\n",
    "print(\"每個元素佔用的空間:\", c.itemsize)   # 印出 NdArray 每個元素佔用的空間\n",
    "print(\"長度:\", len(c))   # 印出 NdArray 的長度\n",
    "print(\"類型:\", type(c))  # 印出 NdArray 的類型"
   ]
  },
  {
   "cell_type": "markdown",
   "metadata": {
    "id": "Uf6zC0QZLwCE"
   },
   "source": [
    "### 3. 如何利用 list(...) 實現 a.tolist() 的效果？試著用程式實作。\n"
   ]
  },
  {
   "cell_type": "code",
   "execution_count": 49,
   "metadata": {
    "id": "sCUzHu_BLwCF",
    "outputId": "ba9c8945-8efb-42b1-f978-2bbdda97accd"
   },
   "outputs": [
    {
     "name": "stdout",
     "output_type": "stream",
     "text": [
      "[6, 9, 6, 0, 5, 5]\n",
      "[[9, 3, 4, 6], [3, 6, 5, 5], [8, 5, 9, 3]]\n",
      "[[[0, 3], [5, 0], [0, 4]], [[2, 9], [0, 7], [0, 5]]]\n"
     ]
    }
   ],
   "source": [
    "def tolist(data):\n",
    "    if type(data) != np.ndarray:\n",
    "        return data\n",
    "    newlist = []\n",
    "    for item in data:\n",
    "        newlist.append(tolist(item))\n",
    "    return tolist(newlist)\n",
    "\n",
    "print(tolist(a))\n",
    "print(tolist(b))\n",
    "print(tolist(c))"
   ]
  },
  {
   "cell_type": "code",
   "execution_count": 52,
   "metadata": {
    "id": "IUkVtw8RLwCG",
    "outputId": "e39875a5-5ec7-431b-c12a-485acc167e44"
   },
   "outputs": [
    {
     "name": "stdout",
     "output_type": "stream",
     "text": [
      "[6, 9, 6, 0, 5, 5]\n",
      "[[9, 3, 4, 6], [3, 6, 5, 5], [8, 5, 9, 3]]\n",
      "[[[0, 3], [5, 0], [0, 4]], [[2, 9], [0, 7], [0, 5]]]\n"
     ]
    }
   ],
   "source": [
    "def tolist(data):\n",
    "    if type(data) != np.ndarray:\n",
    "        return data\n",
    "    return [tolist(item) for item in data]\n",
    "\n",
    "print(tolist(a))\n",
    "print(tolist(b))\n",
    "print(tolist(c))"
   ]
  },
  {
   "cell_type": "code",
   "execution_count": null,
   "metadata": {
    "id": "NPhF8_CqLwCG",
    "outputId": "51fab908-5bfd-415f-9584-92bb376648c8"
   },
   "outputs": [],
   "source": []
  },
  {
   "cell_type": "code",
   "execution_count": null,
   "metadata": {
    "id": "3Hc8vQYtLwCH",
    "outputId": "1290bc93-84ca-4da4-eb1a-315da37afaff"
   },
   "outputs": [],
   "source": []
  },
  {
   "cell_type": "code",
   "execution_count": null,
   "metadata": {
    "id": "2lDVOwFpLwCJ",
    "outputId": "ddfa84e4-3d32-4a68-c250-f57b2f66d830"
   },
   "outputs": [],
   "source": []
  },
  {
   "cell_type": "code",
   "execution_count": null,
   "metadata": {
    "id": "tvqCpuFILwCK"
   },
   "outputs": [],
   "source": []
  },
  {
   "cell_type": "code",
   "execution_count": null,
   "metadata": {
    "id": "640whg6NLwCK"
   },
   "outputs": [],
   "source": []
  }
 ],
 "metadata": {
  "colab": {
   "name": "01Homework_維元.ipynb",
   "provenance": []
  },
  "kernelspec": {
   "display_name": "Python 3",
   "language": "python",
   "name": "python3"
  },
  "language_info": {
   "codemirror_mode": {
    "name": "ipython",
    "version": 3
   },
   "file_extension": ".py",
   "mimetype": "text/x-python",
   "name": "python",
   "nbconvert_exporter": "python",
   "pygments_lexer": "ipython3",
   "version": "3.8.8"
  }
 },
 "nbformat": 4,
 "nbformat_minor": 1
}
